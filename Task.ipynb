{
 "cells": [
  {
   "cell_type": "markdown",
   "id": "c07edcf8",
   "metadata": {},
   "source": [
    "Тестовое задание\n",
    "\n",
    "1. Изучите данные и модель из статьи [James Wallbridge. Transformers for limit order books, https://arxiv.org/pdf/2003.00130.pdf](https://arxiv.org/pdf/2003.00130.pdf)\n",
    "2. Проведите свой эксперимент по описанной в статье методике, используя их код на github. \n",
    "3. Опишите, получилось ли достигнуть таких же результатов как в статье, если нет, то объясните, почему? Найдите недочеты в логике статьи.\n",
    "4. Предложите свои идеи по улучшению обработки данных и структуре модели.\n",
    "5. Реализуйте как минимум 1 свою идею по улучшению, сравните результаты. Подробно объясните полученные результаты."
   ]
  },
  {
   "cell_type": "markdown",
   "id": "621cb5a3",
   "metadata": {},
   "source": [
    "В [репозитории автора ](https://github.com/jwallbridge/translob) содержатся, к сожалению, лишь фрагменты решения. Нет полной модели, только отдельные слои. Поэтому для нашего исследования за основу возьмём другой репозиторий, [https://github.com/simaki/translob](https://github.com/simaki/translob), который содержит полную реализацию модели из рассматриваемой статьи с использованием библиотеки `pytorch`. \n",
    "\n",
    "Из этой модели мы убираем финальный `softmax` так как используемая нами функция ошибки `CrossEntropyLoss` принимает на вход логиты."
   ]
  },
  {
   "cell_type": "code",
   "execution_count": 4,
   "id": "c6dbd128",
   "metadata": {},
   "outputs": [
    {
     "ename": "ModuleNotFoundError",
     "evalue": "No module named 'sklearn'",
     "output_type": "error",
     "traceback": [
      "\u001b[1;31m---------------------------------------------------------------------------\u001b[0m",
      "\u001b[1;31mModuleNotFoundError\u001b[0m                       Traceback (most recent call last)",
      "Cell \u001b[1;32mIn[4], line 7\u001b[0m\n\u001b[0;32m      4\u001b[0m \u001b[39mimport\u001b[39;00m \u001b[39mtorch\u001b[39;00m\u001b[39m.\u001b[39;00m\u001b[39mnn\u001b[39;00m \u001b[39mas\u001b[39;00m \u001b[39mnn\u001b[39;00m\n\u001b[0;32m      5\u001b[0m \u001b[39mimport\u001b[39;00m \u001b[39mtorch\u001b[39;00m\u001b[39m.\u001b[39;00m\u001b[39moptim\u001b[39;00m \u001b[39mas\u001b[39;00m \u001b[39moptim\u001b[39;00m\n\u001b[1;32m----> 7\u001b[0m \u001b[39mfrom\u001b[39;00m \u001b[39msklearn\u001b[39;00m\u001b[39m.\u001b[39;00m\u001b[39mmetrics\u001b[39;00m \u001b[39mimport\u001b[39;00m accuracy_score, classification_report, confusion_matrix, ConfusionMatrixDisplay\n\u001b[0;32m      8\u001b[0m \u001b[39mimport\u001b[39;00m \u001b[39mmatplotlib\u001b[39;00m\u001b[39m.\u001b[39;00m\u001b[39mpyplot\u001b[39;00m \u001b[39mas\u001b[39;00m \u001b[39mplt\u001b[39;00m\n",
      "\u001b[1;31mModuleNotFoundError\u001b[0m: No module named 'sklearn'"
     ]
    }
   ],
   "source": [
    "import numpy as np\n",
    "import torch\n",
    "from torch.utils import data\n",
    "import torch.nn as nn\n",
    "import torch.optim as optim\n",
    "\n",
    "from sklearn.metrics import accuracy_score, classification_report, confusion_matrix, ConfusionMatrixDisplay\n",
    "import matplotlib.pyplot as plt"
   ]
  },
  {
   "cell_type": "code",
   "execution_count": null,
   "id": "80318c3b",
   "metadata": {},
   "outputs": [],
   "source": [
    "from translob.nn import TransLOB"
   ]
  },
  {
   "cell_type": "markdown",
   "id": "d92335ca",
   "metadata": {},
   "source": [
    "# 1. Данные\n",
    "В статье используется датасет [FI-2010](https://etsin.fairdata.fi/dataset/73eb48d7-4dbc-4a10-a52a-da745b47a649), включающий в себя данные по заявкам (limit order book (LOB), отечественные трейдеры обычно говорят \"стакан заявок\") за 10 дней по 5 акциям на Хельсинской фондовой бирже (Helsinki Stock Exchange). Данные включают по 10 заявок на покупку и продажу, цена и объем - итого 40 значений для каждого момента времени по одной акции.\n",
    "\n",
    "Исходный набор данных включает данные с пред- и пост- торговых аукционов, а также данные без этих аукционов. В статье используются данные без аукционов.\n",
    "\n",
    "Имеются различные варианты нормировки данных. В статье используется `z-score`: $\\bar{x}_t=\\frac{x_t - \\bar{y}}{\\sigma_{\\bar{y}}}$, где $\\bar{y}$ (соответственно $\\sigma_{\\bar{y}}$) - среднее (соответственно стандартное отклонение) данных предыдущего дня.\n",
    "\n",
    "Помимо заявок, данные содержат целевую переменную - направление изменения средней цены за некоторое последующее число шагов. Если относительное изменение цены положительное и больше, чем $\\alpha = 0.002$, то целевая переменная равна +1, если отрицательное и по модулю больше $0.002$ - то -1, иначе - целевая переменная равна 0.\n"
   ]
  },
  {
   "cell_type": "markdown",
   "id": "fac5c1fd",
   "metadata": {},
   "source": [
    "Для наших целей удобно загрузить данные в виде готовой таблицы. Для этого воспользуемся готовым пакетом [fi2010](https://github.com/simaki/fi2010)"
   ]
  },
  {
   "cell_type": "code",
   "execution_count": null,
   "id": "06566391",
   "metadata": {},
   "outputs": [
    {
     "ename": "ModuleNotFoundError",
     "evalue": "No module named 'fi2010'",
     "output_type": "error",
     "traceback": [
      "\u001b[1;31m---------------------------------------------------------------------------\u001b[0m",
      "\u001b[1;31mModuleNotFoundError\u001b[0m                       Traceback (most recent call last)",
      "Cell \u001b[1;32mIn[1], line 1\u001b[0m\n\u001b[1;32m----> 1\u001b[0m \u001b[39mfrom\u001b[39;00m \u001b[39mfi2010\u001b[39;00m \u001b[39mimport\u001b[39;00m fetch_fi2010\n\u001b[0;32m      3\u001b[0m dataframe \u001b[39m=\u001b[39m fetch_fi2010(normalization\u001b[39m=\u001b[39m\u001b[39m\"\u001b[39m\u001b[39mzscore\u001b[39m\u001b[39m\"\u001b[39m)\n",
      "\u001b[1;31mModuleNotFoundError\u001b[0m: No module named 'fi2010'"
     ]
    }
   ],
   "source": [
    "from fi2010 import fetch_fi2010\n",
    "\n",
    "dataframe = fetch_fi2010(normalization=\"zscore\")"
   ]
  },
  {
   "cell_type": "code",
   "execution_count": null,
   "id": "26c1d9b6",
   "metadata": {},
   "outputs": [
    {
     "data": {
      "text/html": [
       "<div>\n",
       "<style scoped>\n",
       "    .dataframe tbody tr th:only-of-type {\n",
       "        vertical-align: middle;\n",
       "    }\n",
       "\n",
       "    .dataframe tbody tr th {\n",
       "        vertical-align: top;\n",
       "    }\n",
       "\n",
       "    .dataframe thead th {\n",
       "        text-align: right;\n",
       "    }\n",
       "</style>\n",
       "<table border=\"1\" class=\"dataframe\">\n",
       "  <thead>\n",
       "    <tr style=\"text-align: right;\">\n",
       "      <th></th>\n",
       "      <th>STOCK</th>\n",
       "      <th>DAY</th>\n",
       "      <th>PRICE_ASK_0</th>\n",
       "      <th>PRICE_ASK_1</th>\n",
       "      <th>PRICE_ASK_2</th>\n",
       "      <th>PRICE_ASK_3</th>\n",
       "      <th>PRICE_ASK_4</th>\n",
       "      <th>PRICE_ASK_5</th>\n",
       "      <th>PRICE_ASK_6</th>\n",
       "      <th>PRICE_ASK_7</th>\n",
       "      <th>...</th>\n",
       "      <th>VOLUME_BID_5</th>\n",
       "      <th>VOLUME_BID_6</th>\n",
       "      <th>VOLUME_BID_7</th>\n",
       "      <th>VOLUME_BID_8</th>\n",
       "      <th>VOLUME_BID_9</th>\n",
       "      <th>LABEL_1TICK</th>\n",
       "      <th>LABEL_2TICK</th>\n",
       "      <th>LABEL_3TICK</th>\n",
       "      <th>LABEL_5TICK</th>\n",
       "      <th>LABEL_10TICK</th>\n",
       "    </tr>\n",
       "  </thead>\n",
       "  <tbody>\n",
       "    <tr>\n",
       "      <th>0</th>\n",
       "      <td>1</td>\n",
       "      <td>1</td>\n",
       "      <td>0.408275</td>\n",
       "      <td>0.409877</td>\n",
       "      <td>0.409493</td>\n",
       "      <td>0.409170</td>\n",
       "      <td>0.408796</td>\n",
       "      <td>0.409242</td>\n",
       "      <td>0.409436</td>\n",
       "      <td>0.408336</td>\n",
       "      <td>...</td>\n",
       "      <td>-0.784121</td>\n",
       "      <td>-0.718656</td>\n",
       "      <td>-0.573157</td>\n",
       "      <td>-0.521503</td>\n",
       "      <td>-0.464096</td>\n",
       "      <td>0</td>\n",
       "      <td>0</td>\n",
       "      <td>0</td>\n",
       "      <td>0</td>\n",
       "      <td>0</td>\n",
       "    </tr>\n",
       "    <tr>\n",
       "      <th>1</th>\n",
       "      <td>1</td>\n",
       "      <td>1</td>\n",
       "      <td>0.408275</td>\n",
       "      <td>0.410898</td>\n",
       "      <td>0.410513</td>\n",
       "      <td>0.410191</td>\n",
       "      <td>0.412876</td>\n",
       "      <td>0.412301</td>\n",
       "      <td>0.413513</td>\n",
       "      <td>0.415468</td>\n",
       "      <td>...</td>\n",
       "      <td>-0.758706</td>\n",
       "      <td>-0.737892</td>\n",
       "      <td>-0.569944</td>\n",
       "      <td>-0.518372</td>\n",
       "      <td>-0.465155</td>\n",
       "      <td>0</td>\n",
       "      <td>0</td>\n",
       "      <td>0</td>\n",
       "      <td>0</td>\n",
       "      <td>0</td>\n",
       "    </tr>\n",
       "    <tr>\n",
       "      <th>2</th>\n",
       "      <td>1</td>\n",
       "      <td>1</td>\n",
       "      <td>0.407254</td>\n",
       "      <td>0.406815</td>\n",
       "      <td>0.407452</td>\n",
       "      <td>0.408150</td>\n",
       "      <td>0.407776</td>\n",
       "      <td>0.407202</td>\n",
       "      <td>0.409436</td>\n",
       "      <td>0.408336</td>\n",
       "      <td>...</td>\n",
       "      <td>-0.758706</td>\n",
       "      <td>-0.737892</td>\n",
       "      <td>-0.569944</td>\n",
       "      <td>-0.518372</td>\n",
       "      <td>-0.465155</td>\n",
       "      <td>-1</td>\n",
       "      <td>-1</td>\n",
       "      <td>0</td>\n",
       "      <td>0</td>\n",
       "      <td>0</td>\n",
       "    </tr>\n",
       "    <tr>\n",
       "      <th>3</th>\n",
       "      <td>1</td>\n",
       "      <td>1</td>\n",
       "      <td>0.407254</td>\n",
       "      <td>0.408857</td>\n",
       "      <td>0.409493</td>\n",
       "      <td>0.409170</td>\n",
       "      <td>0.408796</td>\n",
       "      <td>0.411282</td>\n",
       "      <td>0.413513</td>\n",
       "      <td>0.415468</td>\n",
       "      <td>...</td>\n",
       "      <td>-0.784121</td>\n",
       "      <td>-0.718656</td>\n",
       "      <td>-0.573157</td>\n",
       "      <td>-0.521503</td>\n",
       "      <td>-0.464096</td>\n",
       "      <td>0</td>\n",
       "      <td>0</td>\n",
       "      <td>-1</td>\n",
       "      <td>0</td>\n",
       "      <td>0</td>\n",
       "    </tr>\n",
       "    <tr>\n",
       "      <th>4</th>\n",
       "      <td>1</td>\n",
       "      <td>1</td>\n",
       "      <td>0.407254</td>\n",
       "      <td>0.408857</td>\n",
       "      <td>0.409493</td>\n",
       "      <td>0.409170</td>\n",
       "      <td>0.408796</td>\n",
       "      <td>0.411282</td>\n",
       "      <td>0.413513</td>\n",
       "      <td>0.415468</td>\n",
       "      <td>...</td>\n",
       "      <td>-0.784121</td>\n",
       "      <td>-0.718656</td>\n",
       "      <td>-0.573157</td>\n",
       "      <td>-0.521503</td>\n",
       "      <td>-0.464096</td>\n",
       "      <td>1</td>\n",
       "      <td>1</td>\n",
       "      <td>1</td>\n",
       "      <td>0</td>\n",
       "      <td>0</td>\n",
       "    </tr>\n",
       "  </tbody>\n",
       "</table>\n",
       "<p>5 rows × 47 columns</p>\n",
       "</div>"
      ],
      "text/plain": [
       "   STOCK  DAY  PRICE_ASK_0  PRICE_ASK_1  PRICE_ASK_2  PRICE_ASK_3  \\\n",
       "0      1    1     0.408275     0.409877     0.409493     0.409170   \n",
       "1      1    1     0.408275     0.410898     0.410513     0.410191   \n",
       "2      1    1     0.407254     0.406815     0.407452     0.408150   \n",
       "3      1    1     0.407254     0.408857     0.409493     0.409170   \n",
       "4      1    1     0.407254     0.408857     0.409493     0.409170   \n",
       "\n",
       "   PRICE_ASK_4  PRICE_ASK_5  PRICE_ASK_6  PRICE_ASK_7  ...  VOLUME_BID_5  \\\n",
       "0     0.408796     0.409242     0.409436     0.408336  ...     -0.784121   \n",
       "1     0.412876     0.412301     0.413513     0.415468  ...     -0.758706   \n",
       "2     0.407776     0.407202     0.409436     0.408336  ...     -0.758706   \n",
       "3     0.408796     0.411282     0.413513     0.415468  ...     -0.784121   \n",
       "4     0.408796     0.411282     0.413513     0.415468  ...     -0.784121   \n",
       "\n",
       "   VOLUME_BID_6  VOLUME_BID_7  VOLUME_BID_8  VOLUME_BID_9  LABEL_1TICK  \\\n",
       "0     -0.718656     -0.573157     -0.521503     -0.464096            0   \n",
       "1     -0.737892     -0.569944     -0.518372     -0.465155            0   \n",
       "2     -0.737892     -0.569944     -0.518372     -0.465155           -1   \n",
       "3     -0.718656     -0.573157     -0.521503     -0.464096            0   \n",
       "4     -0.718656     -0.573157     -0.521503     -0.464096            1   \n",
       "\n",
       "   LABEL_2TICK  LABEL_3TICK  LABEL_5TICK  LABEL_10TICK  \n",
       "0            0            0            0             0  \n",
       "1            0            0            0             0  \n",
       "2           -1            0            0             0  \n",
       "3            0           -1            0             0  \n",
       "4            1            1            0             0  \n",
       "\n",
       "[5 rows x 47 columns]"
      ]
     },
     "execution_count": 4,
     "metadata": {},
     "output_type": "execute_result"
    }
   ],
   "source": [
    "dataframe.head()"
   ]
  },
  {
   "cell_type": "code",
   "execution_count": null,
   "id": "c9816adf",
   "metadata": {},
   "outputs": [
    {
     "name": "stdout",
     "output_type": "stream",
     "text": [
      "<class 'pandas.core.frame.DataFrame'>\n",
      "Int64Index: 284875 entries, 0 to 284874\n",
      "Data columns (total 47 columns):\n",
      " #   Column        Non-Null Count   Dtype  \n",
      "---  ------        --------------   -----  \n",
      " 0   STOCK         284875 non-null  int64  \n",
      " 1   DAY           284875 non-null  int64  \n",
      " 2   PRICE_ASK_0   284875 non-null  float64\n",
      " 3   PRICE_ASK_1   284875 non-null  float64\n",
      " 4   PRICE_ASK_2   284875 non-null  float64\n",
      " 5   PRICE_ASK_3   284875 non-null  float64\n",
      " 6   PRICE_ASK_4   284875 non-null  float64\n",
      " 7   PRICE_ASK_5   284875 non-null  float64\n",
      " 8   PRICE_ASK_6   284875 non-null  float64\n",
      " 9   PRICE_ASK_7   284875 non-null  float64\n",
      " 10  PRICE_ASK_8   284875 non-null  float64\n",
      " 11  PRICE_ASK_9   284875 non-null  float64\n",
      " 12  PRICE_BID_0   284875 non-null  float64\n",
      " 13  PRICE_BID_1   284875 non-null  float64\n",
      " 14  PRICE_BID_2   284875 non-null  float64\n",
      " 15  PRICE_BID_3   284875 non-null  float64\n",
      " 16  PRICE_BID_4   284875 non-null  float64\n",
      " 17  PRICE_BID_5   284875 non-null  float64\n",
      " 18  PRICE_BID_6   284875 non-null  float64\n",
      " 19  PRICE_BID_7   284875 non-null  float64\n",
      " 20  PRICE_BID_8   284875 non-null  float64\n",
      " 21  PRICE_BID_9   284875 non-null  float64\n",
      " 22  VOLUME_ASK_0  284875 non-null  float64\n",
      " 23  VOLUME_ASK_1  284875 non-null  float64\n",
      " 24  VOLUME_ASK_2  284875 non-null  float64\n",
      " 25  VOLUME_ASK_3  284875 non-null  float64\n",
      " 26  VOLUME_ASK_4  284875 non-null  float64\n",
      " 27  VOLUME_ASK_5  284875 non-null  float64\n",
      " 28  VOLUME_ASK_6  284875 non-null  float64\n",
      " 29  VOLUME_ASK_7  284875 non-null  float64\n",
      " 30  VOLUME_ASK_8  284875 non-null  float64\n",
      " 31  VOLUME_ASK_9  284875 non-null  float64\n",
      " 32  VOLUME_BID_0  284875 non-null  float64\n",
      " 33  VOLUME_BID_1  284875 non-null  float64\n",
      " 34  VOLUME_BID_2  284875 non-null  float64\n",
      " 35  VOLUME_BID_3  284875 non-null  float64\n",
      " 36  VOLUME_BID_4  284875 non-null  float64\n",
      " 37  VOLUME_BID_5  284875 non-null  float64\n",
      " 38  VOLUME_BID_6  284875 non-null  float64\n",
      " 39  VOLUME_BID_7  284875 non-null  float64\n",
      " 40  VOLUME_BID_8  284875 non-null  float64\n",
      " 41  VOLUME_BID_9  284875 non-null  float64\n",
      " 42  LABEL_1TICK   284875 non-null  int64  \n",
      " 43  LABEL_2TICK   284875 non-null  int64  \n",
      " 44  LABEL_3TICK   284875 non-null  int64  \n",
      " 45  LABEL_5TICK   284875 non-null  int64  \n",
      " 46  LABEL_10TICK  284875 non-null  int64  \n",
      "dtypes: float64(40), int64(7)\n",
      "memory usage: 104.3 MB\n"
     ]
    }
   ],
   "source": [
    "dataframe.info()"
   ]
  },
  {
   "cell_type": "code",
   "execution_count": null,
   "id": "019ab0c8",
   "metadata": {},
   "outputs": [
    {
     "data": {
      "text/plain": [
       "array([1, 2, 3, 4, 5], dtype=int64)"
      ]
     },
     "execution_count": 6,
     "metadata": {},
     "output_type": "execute_result"
    }
   ],
   "source": [
    "dataframe.STOCK.unique()"
   ]
  },
  {
   "cell_type": "code",
   "execution_count": null,
   "id": "cf733d3e",
   "metadata": {},
   "outputs": [
    {
     "data": {
      "text/plain": [
       "array([ 1,  2,  3,  4,  5,  6,  7,  8,  9, 10], dtype=int64)"
      ]
     },
     "execution_count": 7,
     "metadata": {},
     "output_type": "execute_result"
    }
   ],
   "source": [
    "dataframe.DAY.unique()"
   ]
  },
  {
   "cell_type": "markdown",
   "id": "a454d55b",
   "metadata": {},
   "source": [
    "### датасет"
   ]
  },
  {
   "cell_type": "code",
   "execution_count": null,
   "id": "c391136c",
   "metadata": {},
   "outputs": [],
   "source": [
    "class Dataset(data.Dataset):\n",
    "    def __init__(self, dataframe, stock_idx=None):\n",
    "        WINDOW = 100\n",
    "        N_VARS = 40\n",
    "        Y_LABEL = 'LABEL_10TICK'\n",
    "        \n",
    "        x_arrs = []\n",
    "        y_arrs = []\n",
    "        \n",
    "        if stock_idx is None:\n",
    "            stocks = sorted(dataframe.STOCK.unique())\n",
    "        elif isinstance(stock_idx, list):\n",
    "            stocks = stock_idx\n",
    "        else:\n",
    "            stocks = [stock_idx]\n",
    "            \n",
    "        for stock in stocks:\n",
    "            for day in sorted(dataframe.DAY.unique()):\n",
    "                stock_dataframe = dataframe[(dataframe.STOCK == stock) & (dataframe.DAY == day)]\n",
    "                n = stock_dataframe.shape[0]\n",
    "                x_stock = np.zeros((n - WINDOW + 1, N_VARS, WINDOW))\n",
    "                y_stock = np.zeros(n - WINDOW + 1)\n",
    "                for i in range(n - WINDOW + 1):\n",
    "                    x_stock[i, :, :] = stock_dataframe.iloc[i:i + WINDOW, 2:2 + N_VARS].values.T\n",
    "                    y_stock[i] = stock_dataframe[Y_LABEL].iloc[i + WINDOW - 1]\n",
    "                x_arrs.append(x_stock)\n",
    "                y_arrs.append(y_stock)\n",
    "            \n",
    "        self.x = torch.from_numpy(np.concatenate(x_arrs)).float()\n",
    "        self.y = torch.from_numpy(np.concatenate(y_arrs) + 1).long()\n",
    "\n",
    "    def __len__(self):\n",
    "        return self.x.shape[0]\n",
    "\n",
    "    def __getitem__(self, i):\n",
    "        return self.x[i, :, :], self.y[i]"
   ]
  },
  {
   "cell_type": "code",
   "execution_count": null,
   "id": "c7bb1c98",
   "metadata": {},
   "outputs": [],
   "source": [
    "batch_size = 32\n",
    "\n",
    "dataset_train = Dataset(dataframe[dataframe['DAY'] <= 7])\n",
    "dataset_test = Dataset(dataframe[dataframe['DAY'] > 7])\n",
    "\n",
    "train_loader = torch.utils.data.DataLoader(dataset=dataset_train, batch_size=batch_size, shuffle=True)\n",
    "test_loader = torch.utils.data.DataLoader(dataset=dataset_test, batch_size=batch_size, shuffle=False)"
   ]
  },
  {
   "cell_type": "code",
   "execution_count": null,
   "id": "04bc66bd",
   "metadata": {},
   "outputs": [
    {
     "name": "stdout",
     "output_type": "stream",
     "text": [
      "Epoch: 1, train acc: 0.4249, test acc: 0.3653 \n",
      "Epoch: 2, train acc: 0.4477, test acc: 0.4396 \n",
      "Epoch: 3, train acc: 0.4807, test acc: 0.5040 \n",
      "Epoch: 4, train acc: 0.5004, test acc: 0.5163 \n",
      "Epoch: 5, train acc: 0.5436, test acc: 0.5725 \n",
      "Epoch: 6, train acc: 0.5854, test acc: 0.5861 \n",
      "Epoch: 7, train acc: 0.6061, test acc: 0.5797 \n",
      "Epoch: 8, train acc: 0.6244, test acc: 0.6078 \n",
      "Epoch: 9, train acc: 0.6399, test acc: 0.6082 \n",
      "Epoch: 10, train acc: 0.6550, test acc: 0.6219 \n",
      "Epoch: 11, train acc: 0.6656, test acc: 0.6141 \n",
      "Epoch: 12, train acc: 0.6768, test acc: 0.6238 \n",
      "Epoch: 13, train acc: 0.6847, test acc: 0.6134 \n",
      "Epoch: 14, train acc: 0.6943, test acc: 0.6254 \n",
      "Epoch: 15, train acc: 0.7020, test acc: 0.6178 \n",
      "Epoch: 16, train acc: 0.7087, test acc: 0.6238 \n",
      "Epoch: 17, train acc: 0.7162, test acc: 0.6225 \n",
      "Epoch: 18, train acc: 0.7229, test acc: 0.6240 \n",
      "Epoch: 19, train acc: 0.7303, test acc: 0.6139 \n",
      "Epoch: 20, train acc: 0.7358, test acc: 0.6100 \n",
      "Epoch: 21, train acc: 0.7413, test acc: 0.6219 \n",
      "Epoch: 22, train acc: 0.7478, test acc: 0.6224 \n",
      "Epoch: 23, train acc: 0.7532, test acc: 0.6168 \n",
      "Epoch: 24, train acc: 0.7578, test acc: 0.6181 \n",
      "Epoch: 25, train acc: 0.7627, test acc: 0.6257 \n",
      "Epoch: 26, train acc: 0.7670, test acc: 0.6196 \n",
      "Epoch: 27, train acc: 0.7718, test acc: 0.6073 \n",
      "Epoch: 28, train acc: 0.7755, test acc: 0.6216 \n",
      "Epoch: 29, train acc: 0.7802, test acc: 0.6122 \n",
      "Epoch: 30, train acc: 0.7825, test acc: 0.6113 \n",
      "Epoch: 31, train acc: 0.7863, test acc: 0.6081 \n",
      "Epoch: 32, train acc: 0.7899, test acc: 0.6083 \n",
      "Epoch: 33, train acc: 0.7947, test acc: 0.6045 \n",
      "Epoch: 34, train acc: 0.7969, test acc: 0.6049 \n",
      "Epoch: 35, train acc: 0.8004, test acc: 0.6121 \n",
      "Epoch: 36, train acc: 0.8027, test acc: 0.6027 \n",
      "Epoch: 37, train acc: 0.8057, test acc: 0.6073 \n",
      "Epoch: 38, train acc: 0.8090, test acc: 0.6042 \n",
      "Epoch: 39, train acc: 0.8114, test acc: 0.6070 \n",
      "Epoch: 40, train acc: 0.8127, test acc: 0.5981 \n",
      "Epoch: 41, train acc: 0.8171, test acc: 0.5963 \n",
      "Epoch: 42, train acc: 0.8188, test acc: 0.5907 \n",
      "Epoch: 43, train acc: 0.8206, test acc: 0.5856 \n",
      "Epoch: 44, train acc: 0.8220, test acc: 0.5945 \n",
      "Epoch: 45, train acc: 0.8251, test acc: 0.6000 \n",
      "Epoch: 46, train acc: 0.8283, test acc: 0.5984 \n",
      "Epoch: 47, train acc: 0.8293, test acc: 0.5984 \n",
      "Epoch: 48, train acc: 0.8318, test acc: 0.5895 \n",
      "Epoch: 49, train acc: 0.8341, test acc: 0.5914 \n",
      "Epoch: 50, train acc: 0.8356, test acc: 0.5928 \n"
     ]
    }
   ],
   "source": [
    "def build_model(train_loader, test_loader, n_epochs=50, lr=0.0001, print_acc=True, tf_dropout_rate=0.0):\n",
    "    model = TransLOB(tf_dropout_rate=tf_dropout_rate)\n",
    "\n",
    "    optimizer = torch.optim.Adam(model.parameters(), lr=lr, weight_decay=1e-5)\n",
    "\n",
    "    loss_fn = nn.CrossEntropyLoss()\n",
    "\n",
    "    train_accs = []\n",
    "    test_accs = []\n",
    "\n",
    "    for i in range(n_epochs):\n",
    "        model.train()\n",
    "        n_correct = 0.\n",
    "        n_total = 0.\n",
    "        for x_train, y_train in train_loader:\n",
    "\n",
    "            y_pred = model(x_train)\n",
    "\n",
    "            loss = loss_fn(y_pred, y_train)\n",
    "\n",
    "            optimizer.zero_grad()\n",
    "\n",
    "            loss.backward()\n",
    "            nn.utils.clip_grad_norm_(model.parameters(), max_norm=5.0)\n",
    "\n",
    "            optimizer.step()\n",
    "\n",
    "            _, predictions = torch.max(y_pred, 1)\n",
    "            n_correct += (predictions == y_train).sum().item()\n",
    "            n_total += y_train.shape[0]\n",
    "\n",
    "        train_accuracy = n_correct / n_total\n",
    "        train_accs.append(train_accuracy)\n",
    "\n",
    "        model.eval()\n",
    "        n_correct = 0.\n",
    "        n_total = 0.\n",
    "        for x_test, y_test in test_loader:\n",
    "            y_pred = model(x_test)\n",
    "\n",
    "            _, predictions = torch.max(y_pred, 1)\n",
    "\n",
    "            n_correct += (predictions == y_test).sum().item()\n",
    "            n_total += y_test.shape[0]\n",
    "\n",
    "        test_accuracy = n_correct / n_total\n",
    "        test_accs.append(test_accuracy)\n",
    "\n",
    "        if print_acc:\n",
    "            print(f\"Epoch: {i + 1}, train acc: {train_accuracy:.4f}, test acc: {test_accuracy:.4f} \")\n",
    "    return model, train_accs, test_accs\n",
    "\n",
    "model, train_accs, test_accs = build_model(train_loader, test_loader)"
   ]
  },
  {
   "cell_type": "code",
   "execution_count": null,
   "id": "57d0404b",
   "metadata": {},
   "outputs": [],
   "source": [
    "def plot_progress(train_accs, test_accs, stock_idx=None):\n",
    "    plt.plot(train_accs, label='train accuracy')\n",
    "    plt.plot(test_accs, label='test accuracy')\n",
    "    plt.plot(np.ones_like(train_accs), '--', label='100% accuracy')\n",
    "    if stock_idx is None:\n",
    "        plt.title(f'Accuracy', fontsize=14)\n",
    "    else:\n",
    "        plt.title(f'Accuracy, stock = {stock_idx}', fontsize=14)\n",
    "    plt.ylabel('Accuracy')\n",
    "    plt.xlabel('Epoch')\n",
    "    plt.legend()\n",
    "\n",
    "    plt.show()"
   ]
  },
  {
   "cell_type": "code",
   "execution_count": null,
   "id": "a1e0a87e",
   "metadata": {},
   "outputs": [
    {
     "data": {
      "image/png": "[encoded data removed]",
      "text/plain": [
       "<Figure size 640x480 with 1 Axes>"
      ]
     },
     "metadata": {},
     "output_type": "display_data"
    }
   ],
   "source": [
    "plot_progress(train_accs, test_accs)"
   ]
  },
  {
   "cell_type": "markdown",
   "id": "93b5b4f4",
   "metadata": {},
   "source": [
    "Попробуем ввести ненулевой дропаут в  трансформеры."
   ]
  },
  {
   "cell_type": "code",
   "execution_count": null,
   "id": "b188999d",
   "metadata": {},
   "outputs": [
    {
     "name": "stdout",
     "output_type": "stream",
     "text": [
      "Epoch: 1, train acc: 0.4279, test acc: 0.3508 \n",
      "Epoch: 2, train acc: 0.4440, test acc: 0.4220 \n",
      "Epoch: 3, train acc: 0.4760, test acc: 0.4743 \n",
      "Epoch: 4, train acc: 0.5192, test acc: 0.5348 \n",
      "Epoch: 5, train acc: 0.5729, test acc: 0.5708 \n",
      "Epoch: 6, train acc: 0.6024, test acc: 0.5862 \n",
      "Epoch: 7, train acc: 0.6201, test acc: 0.6021 \n",
      "Epoch: 8, train acc: 0.6365, test acc: 0.6080 \n",
      "Epoch: 9, train acc: 0.6494, test acc: 0.6052 \n",
      "Epoch: 10, train acc: 0.6599, test acc: 0.6071 \n",
      "Epoch: 11, train acc: 0.6711, test acc: 0.6062 \n",
      "Epoch: 12, train acc: 0.6794, test acc: 0.6104 \n",
      "Epoch: 13, train acc: 0.6870, test acc: 0.6107 \n",
      "Epoch: 14, train acc: 0.6940, test acc: 0.6125 \n",
      "Epoch: 15, train acc: 0.7003, test acc: 0.6138 \n",
      "Epoch: 16, train acc: 0.7067, test acc: 0.6057 \n",
      "Epoch: 17, train acc: 0.7122, test acc: 0.6107 \n",
      "Epoch: 18, train acc: 0.7174, test acc: 0.6036 \n",
      "Epoch: 19, train acc: 0.7216, test acc: 0.6092 \n",
      "Epoch: 20, train acc: 0.7252, test acc: 0.6053 \n",
      "Epoch: 21, train acc: 0.7305, test acc: 0.6061 \n",
      "Epoch: 22, train acc: 0.7348, test acc: 0.6044 \n",
      "Epoch: 23, train acc: 0.7379, test acc: 0.6019 \n",
      "Epoch: 24, train acc: 0.7423, test acc: 0.6047 \n",
      "Epoch: 25, train acc: 0.7455, test acc: 0.5999 \n",
      "Epoch: 26, train acc: 0.7499, test acc: 0.6031 \n",
      "Epoch: 27, train acc: 0.7522, test acc: 0.5990 \n",
      "Epoch: 28, train acc: 0.7561, test acc: 0.5949 \n",
      "Epoch: 29, train acc: 0.7578, test acc: 0.6034 \n",
      "Epoch: 30, train acc: 0.7612, test acc: 0.6018 \n",
      "Epoch: 31, train acc: 0.7638, test acc: 0.5908 \n",
      "Epoch: 32, train acc: 0.7665, test acc: 0.5953 \n",
      "Epoch: 33, train acc: 0.7699, test acc: 0.5972 \n",
      "Epoch: 34, train acc: 0.7705, test acc: 0.5912 \n",
      "Epoch: 35, train acc: 0.7733, test acc: 0.5904 \n",
      "Epoch: 36, train acc: 0.7756, test acc: 0.5955 \n",
      "Epoch: 37, train acc: 0.7783, test acc: 0.5960 \n",
      "Epoch: 38, train acc: 0.7798, test acc: 0.5977 \n",
      "Epoch: 39, train acc: 0.7818, test acc: 0.5894 \n",
      "Epoch: 40, train acc: 0.7843, test acc: 0.5922 \n",
      "Epoch: 41, train acc: 0.7857, test acc: 0.5938 \n",
      "Epoch: 42, train acc: 0.7874, test acc: 0.5861 \n",
      "Epoch: 43, train acc: 0.7906, test acc: 0.5837 \n",
      "Epoch: 44, train acc: 0.7919, test acc: 0.5834 \n",
      "Epoch: 45, train acc: 0.7931, test acc: 0.5902 \n",
      "Epoch: 46, train acc: 0.7951, test acc: 0.5806 \n",
      "Epoch: 47, train acc: 0.7961, test acc: 0.5826 \n",
      "Epoch: 48, train acc: 0.7982, test acc: 0.5856 \n",
      "Epoch: 49, train acc: 0.7995, test acc: 0.5830 \n",
      "Epoch: 50, train acc: 0.8017, test acc: 0.5854 \n"
     ]
    },
    {
     "data": {
      "image/png": "[encoded data removed]",
      "text/plain": [
       "<Figure size 640x480 with 1 Axes>"
      ]
     },
     "metadata": {},
     "output_type": "display_data"
    }
   ],
   "source": [
    "model, train_accs, test_accs = build_model(train_loader, test_loader, tf_dropout_rate=0.5)\n",
    "plot_progress(train_accs, test_accs)"
   ]
  },
  {
   "attachments": {},
   "cell_type": "markdown",
   "id": "58bd218a",
   "metadata": {},
   "source": [
    "__Выводы__\n",
    "Проведённый эксперимент показывает максимальную точность 62% на тестовой выборке, в то время как в оригинальной статье говорится о точности 88%.\n",
    "\n",
    "Попытка изменить модель путём дополнительных дропаутов в трансформерах ничего не меняет.\n",
    "\n",
    "Причину расхождений установить невозможно, т.к. автор статьи опубликовал в своём репозитории лишь фрагменты модели; полного кода его вычислений у нас нет.\n",
    "\n",
    "Обратим внимание на кривую обучения из оригинальной стати (`Figure 3: Training and validation accuracy for TransLOB for k = 100.`)\n",
    "\n",
    "Мы видим, что у автора точность на валидации получаеться больше, чем точность на обучающей выборке. Это резко отличается от наших результатов. Конечно, нельзя исключить, что мы не правильно воспроизводим все идеи автора (или косяки перевода и понимания не дают таких же точностей, как в статье), однако, кривые обучения могут вести себя иначе: чаще всего точность на обучающей выборке выше, чем на выборке out-of-sample. Всё это позволяет выдвинуть предположение, что в авторской работе имеются проблемы с делением данных на обучающую / валидационную выборку.\n",
    "\n",
    "Что можно сделать: \n",
    "\n",
    "1. Одна из идей для улучшения обработки данных в данном случае может быть использование нормализации данных на основе Z-оценки вместо нормализации на основе предыдущего дня среднего значения и стандартного отклонения. Это может помочь улучшить производительность модели и уменьшить влияние выбросов в данных.\n",
    "\n",
    "Для использования Z-оценки для нормализации данных, вам потребуется:\n",
    "+ Вычислить среднее значение и стандартное отклонение для каждого признака в данных.\n",
    "+ Вычислить Z-оценку для каждого значения признака в данных, используя формулу Z = (x - mean) / std, где x - значение признака, mean - среднее значение признака, std - стандартное отклонение признака.\n",
    "+ Использовать Z-оценку вместо исходного значения признака в модели."
   ]
  },
  {
   "cell_type": "code",
   "execution_count": null,
   "id": "9f420ced",
   "metadata": {},
   "outputs": [],
   "source": []
  }
 ],
 "metadata": {
  "kernelspec": {
   "display_name": "Python 3 (ipykernel)",
   "language": "python",
   "name": "python3"
  },
  "language_info": {
   "codemirror_mode": {
    "name": "ipython",
    "version": 3
   },
   "file_extension": ".py",
   "mimetype": "text/x-python",
   "name": "python",
   "nbconvert_exporter": "python",
   "pygments_lexer": "ipython3",
   "version": "3.11.3"
  }
 },
 "nbformat": 4,
 "nbformat_minor": 5
}
